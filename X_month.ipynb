{
 "cells": [
  {
   "cell_type": "code",
   "execution_count": 1,
   "id": "42a653d7",
   "metadata": {},
   "outputs": [],
   "source": [
    "import os\n",
    "os.chdir('..')\n",
    "\n",
    "from expense_tracker import MonthlyTracker\n",
    "from types_definition import *\n",
    "import misc"
   ]
  },
  {
   "cell_type": "code",
   "execution_count": 2,
   "id": "dc8a67bb",
   "metadata": {},
   "outputs": [
    {
     "ename": "SyntaxError",
     "evalue": "invalid syntax (1462643031.py, line 2)",
     "output_type": "error",
     "traceback": [
      "\u001B[0;36m  Input \u001B[0;32mIn [2]\u001B[0;36m\u001B[0m\n\u001B[0;31m    track = MonthlyTracker(X, 202X)\u001B[0m\n\u001B[0m                                 ^\u001B[0m\n\u001B[0;31mSyntaxError\u001B[0m\u001B[0;31m:\u001B[0m invalid syntax\n"
     ]
    }
   ],
   "source": [
    "# Create a tracker class\n",
    "track = MonthlyTracker(X, 202X)"
   ]
  },
  {
   "cell_type": "code",
   "execution_count": null,
   "id": "f9a3445e",
   "metadata": {},
   "outputs": [],
   "source": [
    "# Log of all incomes\n",
    "# track.income('I just won a jackpot!', jackpot, 10000)"
   ]
  },
  {
   "cell_type": "code",
   "execution_count": null,
   "id": "1d3caeda",
   "metadata": {},
   "outputs": [],
   "source": [
    "# Log of all expenses\n",
    "# track.expense('Definitely not useless stuff', various, 100)\n",
    "# track.multiple_expenses((\n",
    "#     ['Another useless stuff', various, 50],\n",
    "#     ['Even more useless stuff', various, 150],\n",
    "# ))"
   ]
  },
  {
   "cell_type": "code",
   "execution_count": null,
   "id": "6b0109c7",
   "metadata": {},
   "outputs": [],
   "source": [
    "# Log of all investments\n",
    "# track.investment('yeah bro I do cryptos', cryptos, 1000)"
   ]
  },
  {
   "cell_type": "code",
   "execution_count": null,
   "id": "fb692c02",
   "metadata": {},
   "outputs": [],
   "source": [
    "# Print the title\n",
    "misc.print_title(track)"
   ]
  },
  {
   "cell_type": "code",
   "execution_count": null,
   "id": "16d31c94",
   "metadata": {},
   "outputs": [],
   "source": [
    "# Print totals\n",
    "misc.print_results(track, curr)"
   ]
  },
  {
   "cell_type": "code",
   "execution_count": null,
   "outputs": [],
   "source": [
    "# Generate pies plots\n",
    "misc.plot_pies(track, curr)"
   ],
   "metadata": {
    "collapsed": false,
    "pycharm": {
     "name": "#%%\n"
    }
   }
  },
  {
   "cell_type": "code",
   "execution_count": null,
   "outputs": [],
   "source": [
    "# Print the tables\n",
    "print('\\033[1m' + \"Incomes table\" + '\\033[0m')\n",
    "track.incomes"
   ],
   "metadata": {
    "collapsed": false,
    "pycharm": {
     "name": "#%%\n"
    }
   }
  },
  {
   "cell_type": "code",
   "execution_count": null,
   "outputs": [],
   "source": [
    "print('\\033[1m' + \"Expenses table\" + '\\033[0m')\n",
    "track.expenses"
   ],
   "metadata": {
    "collapsed": false,
    "pycharm": {
     "name": "#%%\n"
    }
   }
  },
  {
   "cell_type": "code",
   "execution_count": null,
   "outputs": [],
   "source": [
    "print('\\033[1m' + \"Investments table\" + '\\033[0m')\n",
    "track.investments"
   ],
   "metadata": {
    "collapsed": false,
    "pycharm": {
     "name": "#%%\n"
    }
   }
  },
  {
   "cell_type": "code",
   "execution_count": null,
   "outputs": [],
   "source": [
    "# Export to html\n",
    "misc.export_to_html(track)"
   ],
   "metadata": {
    "collapsed": false,
    "pycharm": {
     "name": "#%%\n"
    }
   }
  }
 ],
 "metadata": {
  "kernelspec": {
   "display_name": "Python 3",
   "language": "python",
   "name": "python3"
  },
  "language_info": {
   "codemirror_mode": {
    "name": "ipython",
    "version": 3
   },
   "file_extension": ".py",
   "mimetype": "text/x-python",
   "name": "python",
   "nbconvert_exporter": "python",
   "pygments_lexer": "ipython3",
   "version": "3.7.11"
  }
 },
 "nbformat": 4,
 "nbformat_minor": 5
}