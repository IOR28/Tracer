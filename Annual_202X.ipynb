{
 "cells": [
  {
   "cell_type": "code",
   "execution_count": 4,
   "outputs": [],
   "source": [
    "from expense_tracker import AnnualTracker, MonthlyTracker\n",
    "from misc import execute_tracker_month\n",
    "from types_definition import *"
   ],
   "metadata": {
    "collapsed": false,
    "pycharm": {
     "name": "#%%\n"
    }
   }
  },
  {
   "cell_type": "code",
   "execution_count": 5,
   "id": "f3637c0a",
   "metadata": {},
   "outputs": [
    {
     "name": "stdout",
     "output_type": "stream",
     "text": [
      "\u001B[1mIncomes table\u001B[0m\n"
     ]
    },
    {
     "data": {
      "text/plain": "               Description     Type   Amount\n0  Return from mom's shoes    Other    30.00\n1           ICARUS Payroll  Payroll  1454.53",
      "text/html": "<div>\n<style scoped>\n    .dataframe tbody tr th:only-of-type {\n        vertical-align: middle;\n    }\n\n    .dataframe tbody tr th {\n        vertical-align: top;\n    }\n\n    .dataframe thead th {\n        text-align: right;\n    }\n</style>\n<table border=\"1\" class=\"dataframe\">\n  <thead>\n    <tr style=\"text-align: right;\">\n      <th></th>\n      <th>Description</th>\n      <th>Type</th>\n      <th>Amount</th>\n    </tr>\n  </thead>\n  <tbody>\n    <tr>\n      <th>0</th>\n      <td>Return from mom's shoes</td>\n      <td>Other</td>\n      <td>30.00</td>\n    </tr>\n    <tr>\n      <th>1</th>\n      <td>ICARUS Payroll</td>\n      <td>Payroll</td>\n      <td>1454.53</td>\n    </tr>\n  </tbody>\n</table>\n</div>"
     },
     "execution_count": 5,
     "metadata": {},
     "output_type": "execute_result"
    },
    {
     "name": "stdout",
     "output_type": "stream",
     "text": [
      "\u001B[1mIncomes table\u001B[0m\n"
     ]
    },
    {
     "data": {
      "text/plain": "                   Description     Type  Amount\n0          Return thermometers    Other    15.0\n1                 Return shoes    Other    50.0\n2  Return wave motor and tests    Other    60.0\n3               ICARUS Payroll  Payroll  1499.9",
      "text/html": "<div>\n<style scoped>\n    .dataframe tbody tr th:only-of-type {\n        vertical-align: middle;\n    }\n\n    .dataframe tbody tr th {\n        vertical-align: top;\n    }\n\n    .dataframe thead th {\n        text-align: right;\n    }\n</style>\n<table border=\"1\" class=\"dataframe\">\n  <thead>\n    <tr style=\"text-align: right;\">\n      <th></th>\n      <th>Description</th>\n      <th>Type</th>\n      <th>Amount</th>\n    </tr>\n  </thead>\n  <tbody>\n    <tr>\n      <th>0</th>\n      <td>Return thermometers</td>\n      <td>Other</td>\n      <td>15.0</td>\n    </tr>\n    <tr>\n      <th>1</th>\n      <td>Return shoes</td>\n      <td>Other</td>\n      <td>50.0</td>\n    </tr>\n    <tr>\n      <th>2</th>\n      <td>Return wave motor and tests</td>\n      <td>Other</td>\n      <td>60.0</td>\n    </tr>\n    <tr>\n      <th>3</th>\n      <td>ICARUS Payroll</td>\n      <td>Payroll</td>\n      <td>1499.9</td>\n    </tr>\n  </tbody>\n</table>\n</div>"
     },
     "execution_count": 5,
     "metadata": {},
     "output_type": "execute_result"
    },
    {
     "name": "stdout",
     "output_type": "stream",
     "text": [
      "There is no ./2022/3_March.ipynb notebook.\n",
      "There is no ./2022/4_April.ipynb notebook.\n",
      "There is no ./2022/5_May.ipynb notebook.\n",
      "There is no ./2022/6_June.ipynb notebook.\n",
      "There is no ./2022/7_July.ipynb notebook.\n",
      "There is no ./2022/8_August.ipynb notebook.\n",
      "There is no ./2022/9_September.ipynb notebook.\n",
      "There is no ./2022/10_October.ipynb notebook.\n",
      "There is no ./2022/11_November.ipynb notebook.\n",
      "There is no ./2022/12_December.ipynb notebook.\n"
     ]
    }
   ],
   "source": [
    "# Create annual tracker class\n",
    "annual = AnnualTracker(2022)\n",
    "\n",
    "# Get all the monthly trackers created\n",
    "for month in range(1,13):\n",
    "    # clear previous month tracker\n",
    "    track = None\n",
    "    \n",
    "    # execute_tracker_month(index, print_tables, print_results, print_graphs) Prints set to False by default\n",
    "    execute_tracker_month(annual.year, month, print_results=True)\n",
    "    \n",
    "    # saves even Nones so that index == month\n",
    "    if track is not None:\n",
    "        if track.year == annual.year: # just checking\n",
    "            annual.add(track)"
   ]
  },
  {
   "cell_type": "code",
   "execution_count": 6,
   "id": "67110808",
   "metadata": {},
   "outputs": [
    {
     "name": "stdout",
     "output_type": "stream",
     "text": [
      "\u001B[1mResults for 2022:\u001B[0m\n",
      "The total amount earned is 3109.43€\n",
      "The total amount spent is 2257.18€\n",
      "The balance this year is 342.25€\n",
      "The total amount invested is 510.0€\n",
      "\n",
      "\n"
     ]
    }
   ],
   "source": [
    "# Print totals\n",
    "print('\\033[1m' + \"Results for {}:\".format(annual.year) + '\\033[0m')\n",
    "print(\"The total amount earned is \" + curr.format(annual.total_incomes()))\n",
    "print(\"The total amount spent is \" + curr.format(annual.total_expenses()))\n",
    "# Print balance\n",
    "print(\"The balance this year is \" + curr.format(annual.balance()))\n",
    "print(\"The total amount invested is \" + curr.format(annual.total_investments()))\n",
    "print(\"\\n\")"
   ]
  },
  {
   "cell_type": "code",
   "execution_count": 6,
   "outputs": [],
   "source": [],
   "metadata": {
    "collapsed": false,
    "pycharm": {
     "name": "#%%\n"
    }
   }
  }
 ],
 "metadata": {
  "kernelspec": {
   "display_name": "Python 3 (ipykernel)",
   "language": "python",
   "name": "python3"
  },
  "language_info": {
   "codemirror_mode": {
    "name": "ipython",
    "version": 3
   },
   "file_extension": ".py",
   "mimetype": "text/x-python",
   "name": "python",
   "nbconvert_exporter": "python",
   "pygments_lexer": "ipython3",
   "version": "3.9.7"
  }
 },
 "nbformat": 4,
 "nbformat_minor": 5
}